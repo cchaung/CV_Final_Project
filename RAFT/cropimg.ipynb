{
 "cells": [
  {
   "cell_type": "code",
   "execution_count": 1,
   "metadata": {},
   "outputs": [],
   "source": [
    "import os\n",
    "import re\n",
    "import cv2\n",
    "from glob import glob\n",
    "import matplotlib.pyplot as plt"
   ]
  },
  {
   "cell_type": "code",
   "execution_count": 4,
   "metadata": {},
   "outputs": [],
   "source": [
    "img_paths = glob(\"demo-frames/lulabtop1/*.jpg\")"
   ]
  },
  {
   "cell_type": "code",
   "execution_count": 5,
   "metadata": {},
   "outputs": [
    {
     "data": {
      "text/plain": [
       "50"
      ]
     },
     "execution_count": 5,
     "metadata": {},
     "output_type": "execute_result"
    }
   ],
   "source": [
    "len(img_paths)"
   ]
  },
  {
   "cell_type": "code",
   "execution_count": 16,
   "metadata": {},
   "outputs": [],
   "source": [
    "def get_img_info(path):\n",
    "    '''\n",
    "    '10'->'000010'\n",
    "    '''\n",
    "    P = re.findall('(\\w+)', path)\n",
    "    img_class = P[1]\n",
    "    img_index = P[-2].zfill(6)\n",
    "    print(img_index)\n",
    "    return img_class, img_index"
   ]
  },
  {
   "cell_type": "code",
   "execution_count": 17,
   "metadata": {},
   "outputs": [
    {
     "name": "stdout",
     "output_type": "stream",
     "text": [
      "000014\n"
     ]
    },
    {
     "data": {
      "text/plain": [
       "('frames', '000014')"
      ]
     },
     "execution_count": 17,
     "metadata": {},
     "output_type": "execute_result"
    }
   ],
   "source": [
    "get_img_info(img_paths[5])"
   ]
  },
  {
   "cell_type": "code",
   "execution_count": 18,
   "metadata": {},
   "outputs": [
    {
     "name": "stdout",
     "output_type": "stream",
     "text": [
      "000001\n",
      "000010\n",
      "000011\n",
      "000012\n",
      "000013\n",
      "000014\n",
      "000015\n",
      "000016\n",
      "000017\n",
      "000018\n",
      "000019\n",
      "000002\n",
      "000020\n",
      "000021\n",
      "000022\n",
      "000023\n",
      "000024\n",
      "000025\n",
      "000026\n",
      "000027\n",
      "000028\n",
      "000029\n",
      "000003\n",
      "000030\n",
      "000031\n",
      "000032\n",
      "000033\n",
      "000034\n",
      "000035\n",
      "000036\n",
      "000037\n",
      "000038\n",
      "000039\n",
      "000004\n",
      "000040\n",
      "000041\n",
      "000042\n",
      "000043\n",
      "000044\n",
      "000045\n",
      "000046\n",
      "000047\n",
      "000048\n",
      "000049\n",
      "000005\n",
      "000050\n",
      "000006\n",
      "000007\n",
      "000008\n",
      "000009\n"
     ]
    }
   ],
   "source": [
    "for i, path in enumerate(img_paths):\n",
    "    img_array = cv2.imread(path)\n",
    "    img_class, img_index = get_img_info(path)\n",
    "    cv2.imwrite('demo-frames/lulabtop1/{}.png'.format(img_index), img_array)"
   ]
  },
  {
   "cell_type": "code",
   "execution_count": null,
   "metadata": {},
   "outputs": [],
   "source": []
  }
 ],
 "metadata": {
  "interpreter": {
   "hash": "3d0b3230cba0d6cbfd99760ee6674b1181db07b2579171d1aa41779f5a406caf"
  },
  "kernelspec": {
   "display_name": "Python 3.9.7 ('frank_env')",
   "language": "python",
   "name": "python3"
  },
  "language_info": {
   "codemirror_mode": {
    "name": "ipython",
    "version": 3
   },
   "file_extension": ".py",
   "mimetype": "text/x-python",
   "name": "python",
   "nbconvert_exporter": "python",
   "pygments_lexer": "ipython3",
   "version": "3.9.7"
  },
  "orig_nbformat": 4
 },
 "nbformat": 4,
 "nbformat_minor": 2
}
